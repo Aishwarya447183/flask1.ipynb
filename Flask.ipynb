{
 "cells": [
  {
   "cell_type": "code",
   "execution_count": null,
   "id": "0bb5525e-f17b-4e47-b13b-cc3f5767f106",
   "metadata": {},
   "outputs": [],
   "source": [
    "##Q1.Flask is a micro web framework written in Python. It is classified as a micro framework because it does not require particular tools or libraries. Flask is lightweight and easy to use compared to other frameworks like Django. Flask is designed to make getting started quick and easy, with the ability to scale up to complex applications.\n",
    "\n",
    "Advantages of Flask Framework:\n",
    "\n",
    "Lightweight: Flask is a lightweight framework and requires fewer lines of code compared to other web frameworks.\n",
    "\n",
    "Easy to Use: Flask is easy to use and provides a simple interface for developers to create web applications.\n",
    "\n",
    "Flexible: Flask is a flexible framework and allows developers to customize their applications according to their needs.\n",
    "\n",
    "Modular: Flask is modular, which means that developers can choose which components they want to use and which ones they don't.\n",
    "\n",
    "Wide Range of Extensions: Flask has a wide range of extensions available, which makes it easy for developers to add functionality to their applications.\n",
    "\n",
    "Easy to Deploy: Flask applications are easy to deploy, and there are many hosting services available that support Flask.\n",
    "\n",
    "Pythonic: Flask follows Python best practices, making it a familiar and easy-to-use framework for Python developers.\n"
   ]
  },
  {
   "cell_type": "code",
   "execution_count": null,
   "id": "843b788b-bb07-4871-a343-36c50eaebaa9",
   "metadata": {},
   "outputs": [],
   "source": [
    "##Q2.\n",
    "the simple Flask application to display ‘Hello World!!’.\n",
    "\n",
    "from flask import Flask\n",
    "\n",
    "app = Flask(__name__)\n",
    "\n",
    "@app.route('/')\n",
    "def hello():\n",
    "    return 'Hello World!!'\n",
    "\n",
    "if __name__ == '__main__':\n",
    "    app.run()\n",
    "\n",
    "After running this code, open a web browser and go to http://127.0.0.1:5000/. You should see the text \"Hello World!!\" displayed in your browser.\n"
   ]
  },
  {
   "cell_type": "code",
   "execution_count": null,
   "id": "effadcc2-bba7-4fbb-80f6-808134d1592f",
   "metadata": {},
   "outputs": [],
   "source": [
    "##Q3.\n",
    "App routing in Flask refers to the mechanism by which we match incoming HTTP requests to the appropriate function or view handler in our application.\n",
    "\n",
    "We use app routes in Flask to make our application dynamic and handle various types of user requests. By defining different routes, we can create different views within our application that handle different functionalities such as displaying a webpage, accepting user input, processing data, or returning a response.\n",
    "\n",
    "Routes are used to ensure that the correct function or view handler in our application is executed based on the URL requested. For example, a route may be defined for the homepage of our application, another route may be defined for processing login requests, and another may be defined for retrieving data from a database.\n",
    "\n",
    "Overall, app routing allows our Flask application to process different types of user requests and dynamically generate responses based on the requested URL, improving the user experience and functionality of our application.\n"
   ]
  },
  {
   "cell_type": "code",
   "execution_count": 1,
   "id": "7c87c9a1-18c7-46b2-8bb0-5b2eccbff3e1",
   "metadata": {},
   "outputs": [
    {
     "data": {
      "text/plain": [
       "{'companyName': 'ABC Corporation',\n",
       " 'location': 'India',\n",
       " 'contactDetail': '999-999-9999'}"
      ]
     },
     "execution_count": 1,
     "metadata": {},
     "output_type": "execute_result"
    }
   ],
   "source": [
    "##q4.\n",
    "{\n",
    "  \"companyName\": \"ABC Corporation\",\n",
    "  \"location\": \"India\",\n",
    "  \"contactDetail\": \"999-999-9999\"\n",
    "}\n"
   ]
  },
  {
   "cell_type": "code",
   "execution_count": null,
   "id": "1cf20bb3-2273-450d-8016-ea3c32f5d201",
   "metadata": {},
   "outputs": [],
   "source": []
  },
  {
   "cell_type": "code",
   "execution_count": null,
   "id": "eff3bb57-6fe4-4f91-bfa7-b884cfa8935c",
   "metadata": {},
   "outputs": [],
   "source": []
  }
 ],
 "metadata": {
  "kernelspec": {
   "display_name": "Python 3 (ipykernel)",
   "language": "python",
   "name": "python3"
  },
  "language_info": {
   "codemirror_mode": {
    "name": "ipython",
    "version": 3
   },
   "file_extension": ".py",
   "mimetype": "text/x-python",
   "name": "python",
   "nbconvert_exporter": "python",
   "pygments_lexer": "ipython3",
   "version": "3.10.8"
  }
 },
 "nbformat": 4,
 "nbformat_minor": 5
}
